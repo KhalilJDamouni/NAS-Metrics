{
 "cells": [
  {
   "cell_type": "code",
   "execution_count": null,
   "metadata": {},
   "outputs": [],
   "source": [
    "import random\n",
    "import numpy as np\n",
    "from nats_bench import create\n",
    "from pprint import pprint\n",
    "# Create the API for tologoy search space\n",
    "api_tss = create(\"../fake_torch_dir/NATS-tss-v1_0-3ffb9-full\", 'tss', fast_mode=True, verbose=False)"
   ]
  },
  {
   "cell_type": "code",
   "execution_count": null,
   "metadata": {},
   "outputs": [],
   "source": [
    "def random_search(api, trials=20, dataset='ImageNet16-120'):\n",
    "    api.reset_time()\n",
    "    highest_accuracy, best_arch = -1, -1\n",
    "    for i in range(trials):\n",
    "        arch_index = random.randint(0, len(api)-1)\n",
    "        accuracy, _, _, total_cost = api.simulate_train_eval(\n",
    "            arch_index, dataset, hp=\"12\"\n",
    "        )\n",
    "        if accuracy > highest_accuracy:\n",
    "            highest_accuracy = accuracy\n",
    "            best_arch = arch_index\n",
    "    return arch_index"
   ]
  },
  {
   "cell_type": "code",
   "execution_count": null,
   "metadata": {},
   "outputs": [],
   "source": [
    " info = api_tss.get_more_info(531, dataset, hp='200', is_random=False)\n",
    " config = api_tss.get_net_param(531, 'cifar10', None)\n",
    " print(config)"
   ]
  },
  {
   "cell_type": "code",
   "execution_count": null,
   "metadata": {},
   "outputs": [],
   "source": [
    "# Just a small example, not the full experiment in the paper\n",
    "dataset = 'ImageNet16-120'\n",
    "rs_times, accuracies = 100, []\n",
    "for i in range(rs_times):\n",
    "    arch_index = random_search(api_tss, dataset=dataset)\n",
    "    info = api_tss.get_more_info(284, dataset, hp='200', is_random=False)\n",
    "    accuracies.append(info['test-accuracy'])\n",
    "print('Random Search on {:} : {:.4f} $\\pm$ {:.4f}'.format(dataset, np.mean(accuracies), np.std(accuracies)))"
   ]
  },
  {
   "cell_type": "code",
   "execution_count": null,
   "metadata": {},
   "outputs": [],
   "source": []
  }
 ],
 "metadata": {
  "kernelspec": {
   "name": "python385jvsc74a57bd0ab71728b2e6544376d0f7b7ce3a2690cdf3a078b6ef92caeda64ccdf9bfd26c3",
   "display_name": "Python 3.8.5 64-bit ('base': conda)"
  },
  "language_info": {
   "codemirror_mode": {
    "name": "ipython",
    "version": 3
   },
   "file_extension": ".py",
   "mimetype": "text/x-python",
   "name": "python",
   "nbconvert_exporter": "python",
   "pygments_lexer": "ipython3",
   "version": "3.8.5"
  }
 },
 "nbformat": 4,
 "nbformat_minor": 4
}