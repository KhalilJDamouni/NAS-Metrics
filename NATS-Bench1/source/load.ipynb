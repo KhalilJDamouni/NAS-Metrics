{
 "metadata": {
  "language_info": {
   "codemirror_mode": {
    "name": "ipython",
    "version": 3
   },
   "file_extension": ".py",
   "mimetype": "text/x-python",
   "name": "python",
   "nbconvert_exporter": "python",
   "pygments_lexer": "ipython3",
   "version": "3.9.4"
  },
  "orig_nbformat": 2,
  "kernelspec": {
   "name": "python394jvsc74a57bd0fd767f124e7d2a8bdccf6b13662be2ce8b3fa3799521e7d6ac19ad88bc5cbd58",
   "display_name": "Python 3.9.4 64-bit"
  }
 },
 "nbformat": 4,
 "nbformat_minor": 2,
 "cells": [
  {
   "cell_type": "code",
   "execution_count": 2,
   "metadata": {},
   "outputs": [],
   "source": [
    "from __future__ import division\n",
    "import sys\n",
    "import random\n",
    "import torch\n",
    "import glob\n",
    "import os\n",
    "import math\n",
    "import main\n",
    "import process\n",
    "import correlate\n",
    "import save\n",
    "import resnet_cifar\n",
    "import numpy.linalg as LA\n",
    "import numpy as np\n",
    "import torch\n",
    "from nats_bench import create\n",
    "from scipy.optimize import minimize_scalar\n",
    "from pprint import pprint"
   ]
  },
  {
   "cell_type": "code",
   "execution_count": 11,
   "metadata": {
    "tags": []
   },
   "outputs": [
    {
     "output_type": "stream",
     "name": "stdout",
     "text": [
      "<generator object Module.parameters at 0x0000019F6EA8C580>\n<class 'torch.Tensor'>\n<class 'torch.Tensor'>\n<class 'torch.Tensor'>\n<class 'torch.Tensor'>\n<class 'torch.Tensor'>\n<class 'torch.Tensor'>\n<class 'torch.Tensor'>\n<class 'torch.Tensor'>\n<class 'torch.Tensor'>\n<class 'torch.Tensor'>\n<class 'torch.Tensor'>\n<class 'torch.Tensor'>\n<class 'torch.Tensor'>\n<class 'torch.Tensor'>\n<class 'torch.Tensor'>\n<class 'torch.Tensor'>\n<class 'torch.Tensor'>\n<class 'torch.Tensor'>\n<class 'torch.Tensor'>\n<class 'torch.Tensor'>\n<class 'torch.Tensor'>\n<class 'torch.Tensor'>\n<class 'torch.Tensor'>\n<class 'torch.Tensor'>\n<class 'torch.Tensor'>\n<class 'torch.Tensor'>\n<class 'torch.Tensor'>\n<class 'torch.Tensor'>\n<class 'torch.Tensor'>\n<class 'torch.Tensor'>\n<class 'torch.Tensor'>\n<class 'torch.Tensor'>\n<class 'torch.Tensor'>\n"
     ]
    }
   ],
   "source": [
    "model = resnet_cifar.ResNet34()\n",
    "torch.load('trial_0_epoch_25.pth.tar')\n",
    "print(model.parameters())\n",
    "param_dict = dict()\n",
    "param_dict[111] = dict()\n",
    "for name, param in model.named_parameters():\n",
    "    param_dict[111][name] = param.data\n",
    "    if('conv' in name):\n",
    "        #print(name, param)\n",
    "        vec = torch.nn.utils.parameters_to_vector(param)\n",
    "        print(type(vec)) \n",
    "main.get_quality(param_dict)"
   ]
  },
  {
   "cell_type": "code",
   "execution_count": null,
   "metadata": {},
   "outputs": [],
   "source": []
  }
 ]
}