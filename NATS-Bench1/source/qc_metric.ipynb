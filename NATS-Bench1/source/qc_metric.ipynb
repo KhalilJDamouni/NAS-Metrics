{
 "cells": [
  {
   "cell_type": "code",
   "execution_count": 1,
   "metadata": {},
   "outputs": [],
   "source": [
    "from collections import defaultdict\n",
    "from pathlib import Path\n",
    "\n",
    "import json\n",
    "\n",
    "from scipy import stats\n",
    "import matplotlib.pyplot as plt\n",
    "import pandas as pd\n",
    "import numpy as np\n",
    "import torch"
   ]
  },
  {
   "cell_type": "code",
   "execution_count": 6,
   "metadata": {},
   "outputs": [],
   "source": [
    "def get_headers(df):\n",
    "    keys = list(df.keys())[1:]\n",
    "    headers = list()\n",
    "    for key in keys:\n",
    "        key = '_'.join(key.split('_')[:-2]).lower()\n",
    "        if key not in headers:\n",
    "            headers.append(key)\n",
    "        else:\n",
    "            break\n",
    "    assert(len(set(headers)) == len(headers))\n",
    "    return headers"
   ]
  },
  {
   "cell_type": "code",
   "execution_count": 7,
   "metadata": {},
   "outputs": [
    {
     "output_type": "stream",
     "name": "stdout",
     "text": [
      "['train_acc1', 'train_acc5', 'train_loss', 'in_s', 'out_s', 'fc_s', 'in_rank', 'out_rank', 'fc_rank', 'in_condition', 'out_condition', 'rank_velocity', 'learning_rate', 'test_acc1', 'test_acc5', 'test_loss']\nresults_date2021-05-14-13-41-09_trial0_ResNet34CIFAR_CIFAR10_Adasmomentum0.9_weight_decay0.0005_beta.xlsx\n"
     ]
    }
   ],
   "source": [
    "data = defaultdict(dict)\n",
    "avg_in_KG = 0\n",
    "avg_out_KG = 0\n",
    "avg_in_rank = 0\n",
    "avg_out_rank = 0\n",
    "avg_in_MC = 0\n",
    "avg_out_MC = 0\n",
    "avg_train_acc = 0\n",
    "avg_test_acc = 0\n",
    "avg_qc = 0\n",
    "empty = True\n",
    "avg_train_loss = 0\n",
    "avg_test_loss = 0\n",
    "f=Path(str(sys.path[0][0:-18])+\"/outputs/results_date2021-05-14-13-41-09_trial0_ResNet34CIFAR_CIFAR10_Adasmomentum0.9_weight_decay0.0005_beta.xlsx\")\n",
    "if f.suffix == '.xlsx':\n",
    "    df = pd.read_excel(f)\n",
    "    headers = get_headers(df)\n",
    "    print(headers)\n",
    "    print(f.name)\n",
    "    df = df.T\n",
    "    in_KG = np.asarray(\n",
    "        df.iloc[headers.index('in_s') + 1::len(headers),\n",
    "                :])\n",
    "    #assert(len(in_KG[:, -1]) == 250)\n",
    "    out_KG = np.asarray(\n",
    "        df.iloc[headers.index('out_s') + 1::len(headers),\n",
    "                :])\n",
    "    in_rank = np.asarray(\n",
    "        df.iloc[headers.index('in_rank') + 1::len(headers),\n",
    "                :])\n",
    "    out_rank = np.asarray(\n",
    "        df.iloc[headers.index('out_rank') + 1::len(headers),\n",
    "                :])\n",
    "    in_MC = np.asarray(\n",
    "        df.iloc[headers.index('in_condition') + 1::len(headers),\n",
    "                :])\n",
    "    out_MC = np.asarray(\n",
    "        df.iloc[headers.index('out_condition') + 1::len(headers),\n",
    "                :])\n",
    "    in_MC[in_MC == 0] = 500\n",
    "    out_MC[out_MC == 0] = 500\n",
    "    avg_in_KG += in_KG\n",
    "    avg_out_KG += out_KG\n",
    "    avg_in_rank += in_rank\n",
    "    avg_out_rank += out_rank\n",
    "    avg_in_MC += in_MC\n",
    "    avg_out_MC += out_MC\n",
    "    QC = np.arctan2((in_KG[-1, :] + out_KG[-1, :]), \n",
    "        1 - 1 / ((in_MC[-1, :]  + out_MC[-1, :])))\n",
    "    QC = np.linalg.norm(QC) / np.sqrt(in_KG.shape[1])\n",
    "    avg_qc += QC\n",
    "    tag = 'test_acc1'\n",
    "    if 'test_acc1' not in headers:\n",
    "        tag = 'test_acc'\n",
    "        if 'test_acc' not in headers:\n",
    "            tag = 'acc'\n",
    "    test_acc = np.asarray(\n",
    "        df.iloc[headers.index(tag) + 1::len(headers), :])\n",
    "    tag = 'train_acc1'\n",
    "    avg_test_acc += test_acc\n",
    "    if 'train_acc1' not in headers:\n",
    "        tag = 'train_acc'\n",
    "    try:\n",
    "        train_acc = np.asarray(\n",
    "            df.iloc[headers.index(tag) + 1::len(headers), :])\n",
    "        avg_train_acc += train_acc\n",
    "    except Exception:\n",
    "        avg_train_acc += np.zeros_like(avg_train_acc)\n",
    "    train_loss = np.asarray(\n",
    "                df.iloc[headers.index('train_loss') + 1::len(headers), :])\n",
    "    avg_train_loss += train_loss\n",
    "    try:\n",
    "        test_loss = np.asarray(\n",
    "                    df.iloc[headers.index('test_loss') + 1::len(headers), :])\n",
    "        avg_test_loss += test_loss\n",
    "    except Exception:\n",
    "        avg_test_loss += np.zeros_like(avg_test_loss)\n",
    "data['wasda'] = defaultdict()\n",
    "data['wasda']['asdfadsf'] = defaultdict()\n",
    "data['wasda']['asdfadsf']['dasfdfs'] = {\n",
    "    \"in_KG\": avg_in_KG,\n",
    "    \"out_KG\": avg_out_KG,\n",
    "    \"in_rank\": avg_in_rank,\n",
    "    \"out_rank\": avg_out_rank,\n",
    "    \"in_MC\": avg_in_MC,\n",
    "    \"out_MC\": avg_out_MC,\n",
    "    \"QC\": avg_qc,\n",
    "    \"train_loss\": avg_train_loss,\n",
    "    \"test_loss\": avg_test_loss,\n",
    "    \"train_acc\": avg_train_acc,\n",
    "    \"test_acc\": avg_test_acc,\n",
    "}\n",
    "                # n_grid = np.round(np.linspace(\n",
    "                #     0, QC.shape[0]-1, QC.shape[1]))\n",
    "                # n_grid = n_grid.astype(int)\n",
    "                # plt.imshow(QC[n_grid, :].T,\n",
    "                #            cmap='jet', vmin=0, vmax=np.pi/4)\n",
    "                # locs, labels = plt.xticks()\n",
    "                # x_labels = np.round(np.linspace(1, len(n_grid), len(locs)))\n",
    "                # x_labels = x_labels.astype(int)\n",
    "                # x_labels = n_grid[x_labels-1]\n",
    "                # plt.xticks(locs, x_labels)\n",
    "                # fname = f'figures/{data_dir.name}_{exp_dir.name}_{opt_dir.name}.png'\n",
    "                "
   ]
  },
  {
   "cell_type": "code",
   "execution_count": 11,
   "metadata": {
    "tags": []
   },
   "outputs": [
    {
     "output_type": "stream",
     "name": "stdout",
     "text": [
      "[0.52376898 0.13447009 0.13970384 0.13560082 0.16551089 0.16026661\n 0.13521574 0.18935299 0.14689079 0.12855875 0.11127771 0.1868922\n 0.12495261 0.13445675 0.12939091 0.11487824 0.177935   0.12807907\n 0.12917294 0.11652815 0.13405395 0.10917497 0.12420331 0.12322948\n 0.10397523 0.12461573 0.09172168 0.12390505 0.07692295 0.16142043\n 0.07666598 0.09028235 0.04128625 0.04654006 0.04385948 0.03285949] [0.10588269 0.15915146 0.2127592  0.17454192 0.18552665 0.15033413\n 0.1581198  0.14864792 0.20742509 0.06427238 0.16918537 0.18574788\n 0.15628409 0.13981055 0.13846271 0.12162465 0.13157451 0.16803366\n 0.06579854 0.14810064 0.12933049 0.12148054 0.12700517 0.12391229\n 0.10339642 0.11202975 0.09583086 0.1177469  0.07066889 0.09347329\n 0.07133174 0.04543473 0.05510183 0.04646784 0.04791275 0.02898097] [ 1.75037265 72.21595764 18.27045441 56.94750595 21.39185905 11.99610043\n 29.24967766 15.67850304 17.87739372  5.09984684 21.23066521 15.06327343\n 18.76285744 26.30274391 18.03287697 28.78133774 12.89741421 17.16217041\n  4.19832659 20.23010254 15.74466801 15.76498222 23.70184135 14.51316833\n 18.23887444 14.53134537 19.99630356 13.15353775 25.75346184 13.83823872\n 20.35216141 10.07247066 16.62362099 15.8775568  14.37327766 17.91824532] [19.27433205 25.67800522 20.04125023 23.51324654 12.13298512 19.41918564\n 22.81118774 10.84554005  9.32330799  5.10385799 20.60904121  8.49483967\n 24.11645126 14.4222784  38.89225006 19.58219147  9.14677429  9.77429199\n  4.41156387 18.99933624 12.78474426 23.70462418 14.21234512 15.81347561\n 18.1927681  17.02629471 19.1172905  16.37525177 15.63724518 12.86588478\n 22.0288105  10.4523716  14.45328712 15.29724789 15.53290558 18.65805054] [0.58413566 0.28838231 0.34724496 0.30429255 0.34717508 0.31044001\n 0.29061288 0.33778206 0.35247782 0.21061226 0.27979325 0.37112606\n 0.28036737 0.27409465 0.26617372 0.23695925 0.31352364 0.29835027\n 0.21711516 0.26515681 0.26646103 0.23237626 0.25250662 0.25021315\n 0.21007836 0.23969146 0.1901481  0.24509387 0.15010826 0.25886835\n 0.15042914 0.14171176 0.09926547 0.09579608 0.09466328 0.06349325]\n[0.27062541]\n"
     ]
    }
   ],
   "source": [
    "qc = list()\n",
    "for key, metrics in data['wasda']['asdfadsf'].items():\n",
    "    QC = np.arctan2((metrics['in_KG'][-1, :] + metrics['out_KG'][-1, :]), \n",
    "                            1 - 1 / ((metrics['in_MC'][-1, :]  + metrics['out_MC'][-1, :])))\n",
    "    print(str(metrics['in_KG'][-1, :]),str(metrics['out_KG'][-1, :]),str(metrics['in_MC'][-1, :]),str(metrics['out_MC'][-1, :]),str(QC))\n",
    "    try:\n",
    "        QC = np.linalg.norm(QC) / np.sqrt(metrics['in_KG'].shape[1])\n",
    "        if not np.isnan(QC):\n",
    "            qc.append(QC)\n",
    "    except:\n",
    "        print(\"0\")\n",
    "qc = np.array(qc)\n",
    "print(qc)\n",
    "        "
   ]
  },
  {
   "cell_type": "code",
   "execution_count": 7,
   "metadata": {},
   "outputs": [],
   "source": [
    "torch.save(data, 'data/data_full.pt')"
   ]
  },
  {
   "cell_type": "code",
   "execution_count": null,
   "metadata": {},
   "outputs": [],
   "source": []
  }
 ],
 "metadata": {
  "kernelspec": {
   "name": "python385jvsc74a57bd0ab71728b2e6544376d0f7b7ce3a2690cdf3a078b6ef92caeda64ccdf9bfd26c3",
   "display_name": "Python 3.8.5 64-bit ('base': conda)"
  },
  "language_info": {
   "codemirror_mode": {
    "name": "ipython",
    "version": 3
   },
   "file_extension": ".py",
   "mimetype": "text/x-python",
   "name": "python",
   "nbconvert_exporter": "python",
   "pygments_lexer": "ipython3",
   "version": "3.8.5"
  }
 },
 "nbformat": 4,
 "nbformat_minor": 4
}