{
 "metadata": {
  "language_info": {
   "codemirror_mode": {
    "name": "ipython",
    "version": 3
   },
   "file_extension": ".py",
   "mimetype": "text/x-python",
   "name": "python",
   "nbconvert_exporter": "python",
   "pygments_lexer": "ipython3",
   "version": "3.9.4"
  },
  "orig_nbformat": 2,
  "kernelspec": {
   "name": "python394jvsc74a57bd0fd767f124e7d2a8bdccf6b13662be2ce8b3fa3799521e7d6ac19ad88bc5cbd58",
   "display_name": "Python 3.9.4 64-bit"
  }
 },
 "nbformat": 4,
 "nbformat_minor": 2,
 "cells": [
  {
   "cell_type": "code",
   "execution_count": 41,
   "metadata": {},
   "outputs": [],
   "source": [
    "#Import needed libraries\n",
    "\n",
    "import os\n",
    "import csv\n",
    "import pandas as pd\n",
    "import numpy as np\n",
    "import matplotlib.pyplot as plt\n",
    "import matplotlib\n",
    "from scipy import stats\n",
    "from datetime import datetime"
   ]
  },
  {
   "cell_type": "code",
   "execution_count": 42,
   "metadata": {},
   "outputs": [],
   "source": [
    "#Create Main databases for epoch 12 and 90\n",
    "\n",
    "batches = ['a', 'c', 'e', 'k', 'n']\n",
    "df_90 = pd.DataFrame()\n",
    "df_12 = pd.DataFrame()\n",
    "\n",
    "for letter in batches:\n",
    "    filename = '../../outputs/90/'+letter+'_5-19-2021.csv'\n",
    "    df_partial = pd.read_csv(filename)\n",
    "    df_partial = df_partial[~df_partial.isin([np.nan, np.inf, -np.inf]).any(1)] ##Gets rid of infs, NaNs, this might be unnecessary\n",
    "    df_90 = pd.concat([df_90, df_partial], ignore_index=True)\n",
    "\n",
    "batches = ['a']#, 'c', 'e', 'k', 'n']\n",
    "for letter in batches:\n",
    "    filename = '../../outputs/12/'+letter+'_5-20-2021.csv'\n",
    "    df_partial = pd.read_csv(filename)\n",
    "    df_partial = df_partial[~df_partial.isin([np.nan, np.inf, -np.inf]).any(1)] ##Gets rid of infs, NaNs, this might be unnecessary\n",
    "    df_12 = pd.concat([df_12, df_partial], ignore_index=True)\n",
    "\n",
    "#print(df_90)\n",
    "#print(df_12)"
   ]
  },
  {
   "cell_type": "code",
   "execution_count": 47,
   "metadata": {},
   "outputs": [
    {
     "output_type": "stream",
     "name": "stdout",
     "text": [
      "Successfully created the directory Figures/05-21-2021_15-03-44/ \nSaving to:  Figures/05-21-2021_15-03-44/\n"
     ]
    }
   ],
   "source": [
    "#Get name of folder\n",
    "now = datetime.now()\n",
    "date_time = now.strftime(\"%m-%d-%Y_%H-%M-%S\")\n",
    "save_location = \"Figures/\" + date_time + '/'\n",
    "try:\n",
    "    os.mkdir(save_location)\n",
    "except OSError:\n",
    "    print (\"Creation of the directory %s failed\" % save_location)\n",
    "else:\n",
    "    print (\"Successfully created the directory %s \" % save_location)\n",
    "print(\"Saving to: \", save_location)"
   ]
  },
  {
   "cell_type": "code",
   "execution_count": 48,
   "metadata": {},
   "outputs": [
    {
     "output_type": "stream",
     "name": "stdout",
     "text": [
      "Saving:  Figures/05-21-2021_15-03-44/Knowledge_Quality_Without_LRF_Aggregated_using_L1__Pearson__0.871.SVG\n",
      "Saving:  Figures/05-21-2021_15-03-44/Knowledge_Quality_Without_LRF_Aggregated_using_L2__Pearson__0.847.SVG\n",
      "Saving:  Figures/05-21-2021_15-03-44/Knowledge_Quality_Without_LRF_Aggregated_using_L3__Pearson__0.851.SVG\n",
      "Saving:  Figures/05-21-2021_15-03-44/Knowledge_Quality_With_LRF_Aggregated_using_L1__Pearson__0.888.SVG\n",
      "Saving:  Figures/05-21-2021_15-03-44/Knowledge_Quality_With_LRF_Aggregated_using_L2__Pearson__0.863.SVG\n",
      "Saving:  Figures/05-21-2021_15-03-44/Knowledge_Quality_With_LRF_Aggregated_using_L3__Pearson__0.888.SVG\n",
      "Saving:  Figures/05-21-2021_15-03-44/Effective_Rank_Without_LRF_Aggregated_using_L1__Pearson__0.929.SVG\n",
      "Saving:  Figures/05-21-2021_15-03-44/Effective_Rank_Without_LRF_Aggregated_using_L2__Pearson__0.938.SVG\n",
      "Saving:  Figures/05-21-2021_15-03-44/Effective_Rank_Without_LRF_Aggregated_using_L3__Pearson__0.911.SVG\n",
      "Saving:  Figures/05-21-2021_15-03-44/Effective_Rank_With_LRF_Aggregated_using_L1__Pearson__0.747.SVG\n",
      "Saving:  Figures/05-21-2021_15-03-44/Effective_Rank_With_LRF_Aggregated_using_L2__Pearson__0.712.SVG\n",
      "Saving:  Figures/05-21-2021_15-03-44/Effective_Rank_With_LRF_Aggregated_using_L3__Pearson__0.769.SVG\n",
      "Saving:  Figures/05-21-2021_15-03-44/Knowledge_Quality_Without_LRF_Aggregated_using_L1__Pearson__0.344.SVG\n",
      "Saving:  Figures/05-21-2021_15-03-44/Knowledge_Quality_Without_LRF_Aggregated_using_L2__Pearson__0.287.SVG\n",
      "Saving:  Figures/05-21-2021_15-03-44/Knowledge_Quality_Without_LRF_Aggregated_using_L3__Pearson__0.391.SVG\n",
      "Saving:  Figures/05-21-2021_15-03-44/Knowledge_Quality_With_LRF_Aggregated_using_L1__Pearson__0.474.SVG\n",
      "Saving:  Figures/05-21-2021_15-03-44/Knowledge_Quality_With_LRF_Aggregated_using_L2__Pearson__0.382.SVG\n",
      "Saving:  Figures/05-21-2021_15-03-44/Knowledge_Quality_With_LRF_Aggregated_using_L3__Pearson__0.571.SVG\n",
      "Saving:  Figures/05-21-2021_15-03-44/Effective_Rank_Without_LRF_Aggregated_using_L1__Pearson__0.363.SVG\n",
      "Saving:  Figures/05-21-2021_15-03-44/Effective_Rank_Without_LRF_Aggregated_using_L2__Pearson__0.411.SVG\n",
      "Saving:  Figures/05-21-2021_15-03-44/Effective_Rank_Without_LRF_Aggregated_using_L3__Pearson__0.314.SVG\n",
      "Saving:  Figures/05-21-2021_15-03-44/Effective_Rank_With_LRF_Aggregated_using_L1__Pearson__0.411.SVG\n",
      "Saving:  Figures/05-21-2021_15-03-44/Effective_Rank_With_LRF_Aggregated_using_L2__Pearson__0.417.SVG\n",
      "Saving:  Figures/05-21-2021_15-03-44/Effective_Rank_With_LRF_Aggregated_using_L3__Pearson__0.384.SVG\n"
     ]
    }
   ],
   "source": [
    "# 2 W's x 2 Q's x 3 L's x (test and gen) x 2 epochs\n",
    "# Try stacking graphs later.\n",
    "\n",
    "Y = ['test_acc','g_gap']\n",
    "X = ['mqBE_L1' , 'mqBE_L2', 'mqBE_L3',\n",
    "     'mqAE_L1', 'mqAE_L2', 'mqAE_L3',\n",
    "     'erBE_L1', 'erBE_L2', 'erBE_L3', \n",
    "     'erAE_L1', 'erAE_L2', 'erAE_L3']\n",
    "\n",
    "for y in Y:\n",
    "    #Get Y label\n",
    "    if 'test' in y:\n",
    "        accuracy = \"Test Accuracy (%)\"\n",
    "    else:\n",
    "        accuracy = \"Generalization Gap (%)\"\n",
    "\n",
    "    for x in X:\n",
    "        #Get X label:\n",
    "        name = ''\n",
    "        title = [0,0,0]\n",
    "        if 'BE' in x:\n",
    "            name    += 'Q'\n",
    "            title[1] = 'Without LRF'\n",
    "        else:\n",
    "            name    += 'Q̂'\n",
    "            title[1] = 'With LRF'\n",
    "        if 'mq' in x:\n",
    "            name     += '_{G}'\n",
    "            title[0]  = 'Knowledge Quality'\n",
    "        else:\n",
    "            name     += '_{ER}'\n",
    "            title[0]  = 'Effective Rank'\n",
    "        if '1' in x:\n",
    "            name    += '^{L1}'\n",
    "            title[2] = 'Aggregated using L1' \n",
    "        elif '2' in x:\n",
    "            name += '^{L2}'\n",
    "            title[2] = 'Aggregated using L2'\n",
    "        else:\n",
    "            name += '^{L3}'\n",
    "            title[2] = 'Aggregated using L3'\n",
    "        \n",
    "        #Add pearson to title\n",
    "        title = title[0] + ' ' + title[1] + ' ' + title[2] + ', Pearson: ' + str(abs(stats.pearsonr(df_90[x], df_90[y])[0]))[0:5]\n",
    "\n",
    "        #3rd degree polynomial fit\n",
    "        xp = np.linspace(min(df_90[x]), max(df_90[x]), 100)\n",
    "        p3 = np.poly1d(np.polyfit(df_90[x], df_90[y], 3))\n",
    "\n",
    "        matplotlib.rc('xtick', labelsize=10);\n",
    "        plt.plot(df_90[x], df_90[y], '.', xp, p3(xp),'--');\n",
    "        plt.xlabel('$' + name + '$');\n",
    "        plt.ylabel(accuracy);\n",
    "        plt.title(title)\n",
    "        title = title.replace(' ', '_')\n",
    "        title = title.replace(',', '_')\n",
    "        title = title.replace(':', '_')\n",
    "        print(\"Saving: \", save_location + title +'.SVG')\n",
    "        plt.savefig(save_location + title + '.SVG')\n",
    "        plt.close()"
   ]
  },
  {
   "cell_type": "code",
   "execution_count": 17,
   "metadata": {},
   "outputs": [
    {
     "output_type": "stream",
     "name": "stdout",
     "text": [
      "Index(['model_num', 'test_acc', 'test_loss', 'train_acc', 'train_loss',\n       'g_gap', 'mqBE_L1', 'mqBE_L2', 'mqBE_L3', 'mqBE_L4', 'mqBE_L5',\n       'mqAE_L1', 'mqAE_L2', 'mqAE_L3', 'mqAE_L4', 'mqAE_L5', 'erBE_L1',\n       'erBE_L2', 'erBE_L3', 'erBE_L4', 'erBE_L5', 'erAE_L1', 'erAE_L2',\n       'erAE_L3', 'erAE_L4', 'erAE_L5'],\n      dtype='object')\n"
     ]
    }
   ],
   "source": [
    "print(df_12.columns)"
   ]
  },
  {
   "cell_type": "code",
   "execution_count": null,
   "metadata": {},
   "outputs": [],
   "source": []
  }
 ]
}