{
 "metadata": {
  "language_info": {
   "codemirror_mode": {
    "name": "ipython",
    "version": 3
   },
   "file_extension": ".py",
   "mimetype": "text/x-python",
   "name": "python",
   "nbconvert_exporter": "python",
   "pygments_lexer": "ipython3",
   "version": "3.9.4"
  },
  "orig_nbformat": 2,
  "kernelspec": {
   "name": "python394jvsc74a57bd0fd767f124e7d2a8bdccf6b13662be2ce8b3fa3799521e7d6ac19ad88bc5cbd58",
   "display_name": "Python 3.9.4 64-bit"
  }
 },
 "nbformat": 4,
 "nbformat_minor": 2,
 "cells": [
  {
   "cell_type": "code",
   "execution_count": 24,
   "metadata": {},
   "outputs": [],
   "source": [
    "import csv\n",
    "import pandas as pd\n",
    "import numpy as np\n",
    "import matplotlib.pyplot as plt\n",
    "from scipy import stats\n"
   ]
  },
  {
   "cell_type": "code",
   "execution_count": 25,
   "metadata": {},
   "outputs": [],
   "source": [
    "filename = '../../outputs/correlation-05-17-2021_14-43-14.csv'\n",
    "df = pd.read_csv(filename)\n",
    "df = df[~df.isin([np.nan, np.inf, -np.inf]).any(1)] ##Gets rid of infs, NaNs"
   ]
  },
  {
   "cell_type": "code",
   "execution_count": 30,
   "metadata": {},
   "outputs": [
    {
     "output_type": "stream",
     "name": "stdout",
     "text": [
      "(485, 38)\n",
      "Index(['model_num', 'test_acc', 'test_loss', 'train_acc', 'train_loss',\n",
      "       'quality_L1', 'quality_L2', 'quality_prod', 'KG_L1', 'MC_L1', 'MC_L3',\n",
      "       'ER_L1', 'mquality_L1', 'mquality_prod', 'mquality-wL1', 'mquality-wp',\n",
      "       'qlayer0mode3', 'qlayer0mode4', 'qlayer-1mode3', 'qlayer-1mode4', 'KG0',\n",
      "       'KG-1', 'MC0', 'MC-1', 'qnL1', 'qnL3', 'qnL4', 'qnL5', 'qnrL1', 'qnrL3',\n",
      "       'qnrL4', 'qnrL5', 'qnprL1', 'qnprL3', 'qnprL4', 'qnprL5', 'qnrL6',\n",
      "       'qnrL7'],\n",
      "      dtype='object')\n",
      "<ipython-input-30-d730135c49e7>:1: UserWarning: Boolean Series key will be reindexed to match DataFrame index.\n",
      "  over_90 = df[db.test_acc > 0.9]\n"
     ]
    }
   ],
   "source": [
    "over_90 = df[db.test_acc > 0.9]\n",
    "x = \"quality_L2\"\n",
    "y = \"test_acc\"\n",
    "print(over_90.shape)\n",
    "print(over_90.columns)"
   ]
  },
  {
   "cell_type": "code",
   "execution_count": 36,
   "metadata": {
    "tags": []
   },
   "outputs": [],
   "source": [
    "cols = ['quality_L1', 'quality_L2', 'quality_prod', 'KG_L1', 'MC_L1', 'MC_L3',\r\n",
    "       'ER_L1', 'mquality_L1', 'mquality_prod', 'mquality-wL1', 'mquality-wp',\r\n",
    "       'qlayer0mode3', 'qlayer0mode4', 'qlayer-1mode3', 'qlayer-1mode4', 'KG0',\r\n",
    "       'KG-1', 'MC0', 'MC-1', 'qnL1', 'qnL3', 'qnL4', 'qnL5', 'qnrL1', 'qnrL3',\r\n",
    "       'qnrL4', 'qnrL5', 'qnprL1', 'qnprL3', 'qnprL4', 'qnprL5', 'qnrL6',\r\n",
    "       'qnrL7']\r\n",
    "test_acc_vec = over_90['test_acc']\r\n",
    "train_acc_vec = over_90['train_acc']\r\n",
    "results = {}\r\n",
    "\r\n",
    "for x in cols:\r\n",
    "    col = over_90[x]\r\n",
    "    vec = col.to_numpy()\r\n",
    "    results[x + \"_test\"] = stats.pearsonr(vec, test_acc_vec)[0]\r\n",
    "    results[x + \"_train\"] = stats.pearsonr(vec, train_acc_vec)[0]"
   ]
  },
  {
   "cell_type": "code",
   "execution_count": 37,
   "metadata": {},
   "outputs": [
    {
     "output_type": "stream",
     "name": "stdout",
     "text": [
      "{'quality_L1_test': (-0.0946713908368098, 0.03713976494315791), 'quality_L1_train': (-0.1686201913825031, 0.00019099521710648205), 'quality_L2_test': (-0.17500278868343933, 0.00010705120523815983), 'quality_L2_train': (-0.25686360304181366, 9.534814955503936e-09), 'quality_prod_test': (-0.036509932393578956, 0.4224137968449141), 'quality_prod_train': (-0.08951219906763837, 0.04881873018594128), 'KG_L1_test': (-0.008144572653479147, 0.8580117136615542), 'KG_L1_train': (-0.09789892418466978, 0.031113566072010237), 'MC_L1_test': (-0.012841365993408176, 0.7778793731993885), 'MC_L1_train': (0.04017796626765309, 0.37728961844241626), 'MC_L3_test': (0.044827298433764734, 0.3245421767551632), 'MC_L3_train': (0.027138301290806247, 0.5510237763523935), 'ER_L1_test': (0.08629305566686975, 0.05755826080679354), 'ER_L1_train': (0.062098859842328526, 0.1721353249332398), 'mquality_L1_test': (-0.49272347283102147, 4.977554597435411e-31), 'mquality_L1_train': (-0.48610383545075725, 3.948566013025388e-30), 'mquality_prod_test': (-0.3504151533696152, 1.855242670760556e-15), 'mquality_prod_train': (-0.3364706257475767, 2.657472773995297e-14), 'mquality-wL1_test': (-0.2897120724701579, 7.832767398008417e-11), 'mquality-wL1_train': (-0.267279960914969, 2.228921942093622e-09), 'mquality-wp_test': (-0.14307518956831589, 0.0015828929375139575), 'mquality-wp_train': (-0.10187130439760758, 0.0248624542719445), 'qlayer0mode3_test': (-0.3493783599888863, 2.2717444025385967e-15), 'qlayer0mode3_train': (-0.25697520515173833, 9.390622976418616e-09), 'qlayer0mode4_test': (-0.2742885263874534, 8.087577308604096e-10), 'qlayer0mode4_train': (-0.21808752422480587, 1.2410160293493368e-06), 'qlayer-1mode3_test': (-0.10591010445216506, 0.019649487401431), 'qlayer-1mode3_train': (-0.2022224989098504, 7.174253652575916e-06), 'qlayer-1mode4_test': (0.060849749066684874, 0.18094247656395215), 'qlayer-1mode4_train': (-0.03592434654320987, 0.4298986990033785), 'KG0_test': (-0.4311566067005585, 2.241094515464164e-23), 'KG0_train': (-0.3606806922571934, 2.3977562900426227e-16), 'KG-1_test': (0.21209145094602813, 2.4470296482190936e-06), 'KG-1_train': (0.307575988088595, 4.36753579373888e-12), 'MC0_test': (0.028181167370576358, 0.5358192865824188), 'MC0_train': (0.014044827103153691, 0.757684915556278), 'MC-1_test': (0.18896782516947205, 2.8062786202808832e-05), 'MC-1_train': (0.34647728998275035, 3.9879991919234995e-15), 'qnL1_test': (-0.35161123758740526, 1.4673162081567246e-15), 'qnL1_train': (-0.4575155807463691, 1.8328685813089803e-26), 'qnL3_test': (-0.04338856220694127, 0.34032797910987383), 'qnL3_train': (-0.14112267806388365, 0.001836392579560385), 'qnL4_test': (0.13432919926735706, 0.0030356476279603294), 'qnL4_train': (0.007504072433062844, 0.869073115263079), 'qnL5_test': (0.10502069736468127, 0.02070762591034291), 'qnL5_train': (-0.036921767663981725, 0.4171956584310367), 'qnrL1_test': (-0.039432202602104206, 0.3862158026482359), 'qnrL1_train': (0.00468749091991272, 0.9179903771883974), 'qnrL3_test': (-0.004457721106266977, 0.9219971752987632), 'qnrL3_train': (0.07310080175867611, 0.10786238194102575), 'qnrL4_test': (-0.058496267184848294, 0.19843471790275508), 'qnrL4_train': (0.01849553471766122, 0.6845180630180256), 'qnrL5_test': (-0.15675236077908036, 0.0005309301259478948), 'qnrL5_train': (-0.03812639065280526, 0.4021516418672022), 'qnprL1_test': (-0.1660211309650804, 0.00024036071332971575), 'qnprL1_train': (-0.14199304506197097, 0.0017191178122634755), 'qnprL3_test': (-0.06790967481961943, 0.13532707740206357), 'qnprL3_train': (-0.04575733615932259, 0.3145948684656745), 'qnprL4_test': (-0.027271214938646416, 0.5490742550708487), 'qnprL4_train': (-0.0691461887478959, 0.12834066348316797), 'qnprL5_test': (0.008568419426134235, 0.8507070158755151), 'qnprL5_train': (-0.07326344619624621, 0.10707887664911803), 'qnrL6_test': (-0.11974333921691922, 0.008296159056500729), 'qnrL6_train': (0.023679691736850004, 0.6029113489960565), 'qnrL7_test': (-0.21831676463594935, 1.208752027260289e-06), 'qnrL7_train': (-0.15285777325149116, 0.0007314109300507623)}\n"
     ]
    }
   ],
   "source": [
    "print(results)\n"
   ]
  },
  {
   "cell_type": "code",
   "execution_count": 1,
   "metadata": {},
   "outputs": [
    {
     "output_type": "error",
     "ename": "NameError",
     "evalue": "name 'plt' is not defined",
     "traceback": [
      "\u001b[1;31m---------------------------------------------------------------------------\u001b[0m",
      "\u001b[1;31mNameError\u001b[0m                                 Traceback (most recent call last)",
      "\u001b[1;32m<ipython-input-1-134941327f0a>\u001b[0m in \u001b[0;36m<module>\u001b[1;34m\u001b[0m\n\u001b[1;32m----> 1\u001b[1;33m \u001b[0mplt\u001b[0m\u001b[1;33m.\u001b[0m\u001b[0mplot\u001b[0m\u001b[1;33m(\u001b[0m\u001b[0mover_90\u001b[0m\u001b[1;33m[\u001b[0m\u001b[0mx\u001b[0m\u001b[1;33m]\u001b[0m\u001b[1;33m,\u001b[0m \u001b[0mover_90\u001b[0m\u001b[1;33m[\u001b[0m\u001b[0my\u001b[0m\u001b[1;33m]\u001b[0m\u001b[1;33m,\u001b[0m \u001b[1;34m'+'\u001b[0m\u001b[1;33m,\u001b[0m \u001b[0mcolor\u001b[0m\u001b[1;33m=\u001b[0m\u001b[1;34m'blue'\u001b[0m\u001b[1;33m)\u001b[0m\u001b[1;33m\u001b[0m\u001b[1;33m\u001b[0m\u001b[0m\n\u001b[0m\u001b[0;32m      2\u001b[0m \u001b[0mplt\u001b[0m\u001b[1;33m.\u001b[0m\u001b[0mxlabel\u001b[0m\u001b[1;33m(\u001b[0m\u001b[0mx\u001b[0m\u001b[1;33m)\u001b[0m\u001b[1;33m\u001b[0m\u001b[1;33m\u001b[0m\u001b[0m\n\u001b[0;32m      3\u001b[0m \u001b[0mplt\u001b[0m\u001b[1;33m.\u001b[0m\u001b[0mylabel\u001b[0m\u001b[1;33m(\u001b[0m\u001b[0my\u001b[0m\u001b[1;33m)\u001b[0m\u001b[1;33m\u001b[0m\u001b[1;33m\u001b[0m\u001b[0m\n\u001b[0;32m      4\u001b[0m \u001b[1;31m#plt.ylim([0,1.1])\u001b[0m\u001b[1;33m\u001b[0m\u001b[1;33m\u001b[0m\u001b[1;33m\u001b[0m\u001b[0m\n\u001b[0;32m      5\u001b[0m \u001b[0mplt\u001b[0m\u001b[1;33m.\u001b[0m\u001b[0mshow\u001b[0m\u001b[1;33m(\u001b[0m\u001b[1;33m)\u001b[0m\u001b[1;33m\u001b[0m\u001b[1;33m\u001b[0m\u001b[0m\n",
      "\u001b[1;31mNameError\u001b[0m: name 'plt' is not defined"
     ]
    }
   ],
   "source": [
    "plt.plot(over_90[x], over_90[y], '+', color='blue')\n",
    "plt.xlabel(x)\n",
    "plt.ylabel(y)\n",
    "#plt.ylim([0,1.1])\n",
    "plt.show()"
   ]
  }
 ]
}